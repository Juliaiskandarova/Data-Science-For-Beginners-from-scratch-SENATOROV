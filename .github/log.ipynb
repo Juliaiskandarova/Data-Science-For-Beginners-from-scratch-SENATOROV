{
 "cells": [
  {
   "cell_type": "code",
   "execution_count": null,
   "metadata": {},
   "outputs": [],
   "source": [
    "\"\"\"intro to course.\"\"\""
   ]
  },
  {
   "cell_type": "markdown",
   "metadata": {},
   "source": [
    "30/3/25"
   ]
  },
  {
   "cell_type": "markdown",
   "metadata": {},
   "source": [
    "1) работала с гитом\n",
    "2) выполняла пункты с интро\n",
    "3) решала возникшие проблемы в консоле"
   ]
  },
  {
   "cell_type": "markdown",
   "metadata": {},
   "source": [
    "31/2/25\n",
    "1. продолжаю делать интро\n"
   ]
  }
 ],
 "metadata": {
  "kernelspec": {
   "display_name": "Python 3",
   "language": "python",
   "name": "python3"
  },
  "language_info": {
   "name": "python",
   "version": "3.12.7"
  }
 },
 "nbformat": 4,
 "nbformat_minor": 2
}
